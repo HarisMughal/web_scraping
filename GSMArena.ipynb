{
 "cells": [
  {
   "cell_type": "code",
   "execution_count": 1,
   "metadata": {},
   "outputs": [],
   "source": [
    "import requests\n",
    "from bs4 import BeautifulSoup\n",
    "import re\n"
   ]
  },
  {
   "cell_type": "code",
   "execution_count": 200,
   "metadata": {},
   "outputs": [
    {
     "data": {
      "text/plain": [
       "<Response [200]>"
      ]
     },
     "execution_count": 200,
     "metadata": {},
     "output_type": "execute_result"
    }
   ],
   "source": [
    "page = requests.get(\"https://www.gsmarena.com/\")\n",
    "page"
   ]
  },
  {
   "cell_type": "code",
   "execution_count": 201,
   "metadata": {},
   "outputs": [],
   "source": [
    "soup = BeautifulSoup(page.content, 'html.parser')"
   ]
  },
  {
   "cell_type": "code",
   "execution_count": 202,
   "metadata": {},
   "outputs": [
    {
     "data": {
      "text/plain": [
       "[<a href=\"samsung-phones-9.php\">Samsung</a>,\n",
       " <a href=\"apple-phones-48.php\">Apple</a>,\n",
       " <a href=\"huawei-phones-58.php\">Huawei</a>,\n",
       " <a href=\"nokia-phones-1.php\">Nokia</a>,\n",
       " <a href=\"sony-phones-7.php\">Sony</a>,\n",
       " <a href=\"lg-phones-20.php\">LG</a>,\n",
       " <a href=\"htc-phones-45.php\">HTC</a>,\n",
       " <a href=\"motorola-phones-4.php\">Motorola</a>,\n",
       " <a href=\"lenovo-phones-73.php\">Lenovo</a>,\n",
       " <a href=\"xiaomi-phones-80.php\">Xiaomi</a>,\n",
       " <a href=\"google-phones-107.php\">Google</a>,\n",
       " <a href=\"honor-phones-121.php\">Honor</a>,\n",
       " <a href=\"oppo-phones-82.php\">Oppo</a>,\n",
       " <a href=\"realme-phones-118.php\">Realme</a>,\n",
       " <a href=\"oneplus-phones-95.php\">OnePlus</a>,\n",
       " <a href=\"vivo-phones-98.php\">vivo</a>,\n",
       " <a href=\"meizu-phones-74.php\">Meizu</a>,\n",
       " <a href=\"blackberry-phones-36.php\">BlackBerry</a>,\n",
       " <a href=\"asus-phones-46.php\">Asus</a>,\n",
       " <a href=\"alcatel-phones-5.php\">Alcatel</a>,\n",
       " <a href=\"zte-phones-62.php\">ZTE</a>,\n",
       " <a href=\"microsoft-phones-64.php\">Microsoft</a>,\n",
       " <a href=\"vodafone-phones-53.php\">Vodafone</a>,\n",
       " <a href=\"energizer-phones-106.php\">Energizer</a>,\n",
       " <a href=\"cat-phones-89.php\">Cat</a>,\n",
       " <a href=\"sharp-phones-23.php\">Sharp</a>,\n",
       " <a href=\"micromax-phones-66.php\">Micromax</a>,\n",
       " <a href=\"infinix-phones-119.php\">Infinix</a>,\n",
       " <a href=\"ulefone_-phones-124.php\">Ulefone</a>,\n",
       " <a href=\"tecno-phones-120.php\">Tecno</a>,\n",
       " <a href=\"blu-phones-67.php\">BLU</a>,\n",
       " <a href=\"acer-phones-59.php\">Acer</a>,\n",
       " <a href=\"wiko-phones-96.php\">Wiko</a>,\n",
       " <a href=\"panasonic-phones-6.php\">Panasonic</a>,\n",
       " <a href=\"verykool-phones-70.php\">verykool</a>,\n",
       " <a href=\"plum-phones-72.php\">Plum</a>]"
      ]
     },
     "execution_count": 202,
     "metadata": {},
     "output_type": "execute_result"
    }
   ],
   "source": [
    "list_brands = soup.select(\"div.brandmenu-v2.light.l-box.clearfix ul li a\")\n",
    "list_brands"
   ]
  },
  {
   "cell_type": "code",
   "execution_count": 203,
   "metadata": {},
   "outputs": [
    {
     "data": {
      "text/plain": [
       "{'Samsung': {'link': 'https://gsmarena.com/samsung-phones-9.php',\n",
       "  'products': []},\n",
       " 'Apple': {'link': 'https://gsmarena.com/apple-phones-48.php', 'products': []},\n",
       " 'Huawei': {'link': 'https://gsmarena.com/huawei-phones-58.php',\n",
       "  'products': []},\n",
       " 'Nokia': {'link': 'https://gsmarena.com/nokia-phones-1.php', 'products': []},\n",
       " 'Sony': {'link': 'https://gsmarena.com/sony-phones-7.php', 'products': []},\n",
       " 'LG': {'link': 'https://gsmarena.com/lg-phones-20.php', 'products': []},\n",
       " 'HTC': {'link': 'https://gsmarena.com/htc-phones-45.php', 'products': []},\n",
       " 'Motorola': {'link': 'https://gsmarena.com/motorola-phones-4.php',\n",
       "  'products': []},\n",
       " 'Lenovo': {'link': 'https://gsmarena.com/lenovo-phones-73.php',\n",
       "  'products': []},\n",
       " 'Xiaomi': {'link': 'https://gsmarena.com/xiaomi-phones-80.php',\n",
       "  'products': []},\n",
       " 'Google': {'link': 'https://gsmarena.com/google-phones-107.php',\n",
       "  'products': []},\n",
       " 'Honor': {'link': 'https://gsmarena.com/honor-phones-121.php',\n",
       "  'products': []},\n",
       " 'Oppo': {'link': 'https://gsmarena.com/oppo-phones-82.php', 'products': []},\n",
       " 'Realme': {'link': 'https://gsmarena.com/realme-phones-118.php',\n",
       "  'products': []},\n",
       " 'OnePlus': {'link': 'https://gsmarena.com/oneplus-phones-95.php',\n",
       "  'products': []},\n",
       " 'vivo': {'link': 'https://gsmarena.com/vivo-phones-98.php', 'products': []},\n",
       " 'Meizu': {'link': 'https://gsmarena.com/meizu-phones-74.php', 'products': []},\n",
       " 'BlackBerry': {'link': 'https://gsmarena.com/blackberry-phones-36.php',\n",
       "  'products': []},\n",
       " 'Asus': {'link': 'https://gsmarena.com/asus-phones-46.php', 'products': []},\n",
       " 'Alcatel': {'link': 'https://gsmarena.com/alcatel-phones-5.php',\n",
       "  'products': []},\n",
       " 'ZTE': {'link': 'https://gsmarena.com/zte-phones-62.php', 'products': []},\n",
       " 'Microsoft': {'link': 'https://gsmarena.com/microsoft-phones-64.php',\n",
       "  'products': []},\n",
       " 'Vodafone': {'link': 'https://gsmarena.com/vodafone-phones-53.php',\n",
       "  'products': []},\n",
       " 'Energizer': {'link': 'https://gsmarena.com/energizer-phones-106.php',\n",
       "  'products': []},\n",
       " 'Cat': {'link': 'https://gsmarena.com/cat-phones-89.php', 'products': []},\n",
       " 'Sharp': {'link': 'https://gsmarena.com/sharp-phones-23.php', 'products': []},\n",
       " 'Micromax': {'link': 'https://gsmarena.com/micromax-phones-66.php',\n",
       "  'products': []},\n",
       " 'Infinix': {'link': 'https://gsmarena.com/infinix-phones-119.php',\n",
       "  'products': []},\n",
       " 'Ulefone': {'link': 'https://gsmarena.com/ulefone_-phones-124.php',\n",
       "  'products': []},\n",
       " 'Tecno': {'link': 'https://gsmarena.com/tecno-phones-120.php',\n",
       "  'products': []},\n",
       " 'BLU': {'link': 'https://gsmarena.com/blu-phones-67.php', 'products': []},\n",
       " 'Acer': {'link': 'https://gsmarena.com/acer-phones-59.php', 'products': []},\n",
       " 'Wiko': {'link': 'https://gsmarena.com/wiko-phones-96.php', 'products': []},\n",
       " 'Panasonic': {'link': 'https://gsmarena.com/panasonic-phones-6.php',\n",
       "  'products': []},\n",
       " 'verykool': {'link': 'https://gsmarena.com/verykool-phones-70.php',\n",
       "  'products': []},\n",
       " 'Plum': {'link': 'https://gsmarena.com/plum-phones-72.php', 'products': []}}"
      ]
     },
     "execution_count": 203,
     "metadata": {},
     "output_type": "execute_result"
    }
   ],
   "source": [
    "json_brands = { x.get_text():{ 'link':'https://gsmarena.com/'+x.get('href'),'products':[] } for x in  list_brands}\n",
    "json_brands"
   ]
  },
  {
   "cell_type": "code",
   "execution_count": 204,
   "metadata": {},
   "outputs": [
    {
     "data": {
      "text/plain": [
       "dict_keys(['Samsung', 'Apple', 'Huawei', 'Nokia', 'Sony', 'LG', 'HTC', 'Motorola', 'Lenovo', 'Xiaomi', 'Google', 'Honor', 'Oppo', 'Realme', 'OnePlus', 'vivo', 'Meizu', 'BlackBerry', 'Asus', 'Alcatel', 'ZTE', 'Microsoft', 'Vodafone', 'Energizer', 'Cat', 'Sharp', 'Micromax', 'Infinix', 'Ulefone', 'Tecno', 'BLU', 'Acer', 'Wiko', 'Panasonic', 'verykool', 'Plum'])"
      ]
     },
     "execution_count": 204,
     "metadata": {},
     "output_type": "execute_result"
    }
   ],
   "source": [
    "json_brands.keys()"
   ]
  },
  {
   "cell_type": "code",
   "execution_count": 208,
   "metadata": {},
   "outputs": [
    {
     "ename": "SSLError",
     "evalue": "HTTPSConnectionPool(host='gsmarena.com', port=443): Max retries exceeded with url: /samsung-phones-9.php (Caused by SSLError(SSLError(\"bad handshake: SysCallError(-1, 'Unexpected EOF')\")))",
     "output_type": "error",
     "traceback": [
      "\u001b[1;31m---------------------------------------------------------------------------\u001b[0m",
      "\u001b[1;31mSysCallError\u001b[0m                              Traceback (most recent call last)",
      "\u001b[1;32m~\\Anaconda3\\lib\\site-packages\\urllib3\\contrib\\pyopenssl.py\u001b[0m in \u001b[0;36mwrap_socket\u001b[1;34m(self, sock, server_side, do_handshake_on_connect, suppress_ragged_eofs, server_hostname)\u001b[0m\n\u001b[0;32m    455\u001b[0m             \u001b[1;32mtry\u001b[0m\u001b[1;33m:\u001b[0m\u001b[1;33m\u001b[0m\u001b[1;33m\u001b[0m\u001b[0m\n\u001b[1;32m--> 456\u001b[1;33m                 \u001b[0mcnx\u001b[0m\u001b[1;33m.\u001b[0m\u001b[0mdo_handshake\u001b[0m\u001b[1;33m(\u001b[0m\u001b[1;33m)\u001b[0m\u001b[1;33m\u001b[0m\u001b[1;33m\u001b[0m\u001b[0m\n\u001b[0m\u001b[0;32m    457\u001b[0m             \u001b[1;32mexcept\u001b[0m \u001b[0mOpenSSL\u001b[0m\u001b[1;33m.\u001b[0m\u001b[0mSSL\u001b[0m\u001b[1;33m.\u001b[0m\u001b[0mWantReadError\u001b[0m\u001b[1;33m:\u001b[0m\u001b[1;33m\u001b[0m\u001b[1;33m\u001b[0m\u001b[0m\n",
      "\u001b[1;32m~\\Anaconda3\\lib\\site-packages\\OpenSSL\\SSL.py\u001b[0m in \u001b[0;36mdo_handshake\u001b[1;34m(self)\u001b[0m\n\u001b[0;32m   1914\u001b[0m         \u001b[0mresult\u001b[0m \u001b[1;33m=\u001b[0m \u001b[0m_lib\u001b[0m\u001b[1;33m.\u001b[0m\u001b[0mSSL_do_handshake\u001b[0m\u001b[1;33m(\u001b[0m\u001b[0mself\u001b[0m\u001b[1;33m.\u001b[0m\u001b[0m_ssl\u001b[0m\u001b[1;33m)\u001b[0m\u001b[1;33m\u001b[0m\u001b[1;33m\u001b[0m\u001b[0m\n\u001b[1;32m-> 1915\u001b[1;33m         \u001b[0mself\u001b[0m\u001b[1;33m.\u001b[0m\u001b[0m_raise_ssl_error\u001b[0m\u001b[1;33m(\u001b[0m\u001b[0mself\u001b[0m\u001b[1;33m.\u001b[0m\u001b[0m_ssl\u001b[0m\u001b[1;33m,\u001b[0m \u001b[0mresult\u001b[0m\u001b[1;33m)\u001b[0m\u001b[1;33m\u001b[0m\u001b[1;33m\u001b[0m\u001b[0m\n\u001b[0m\u001b[0;32m   1916\u001b[0m \u001b[1;33m\u001b[0m\u001b[0m\n",
      "\u001b[1;32m~\\Anaconda3\\lib\\site-packages\\OpenSSL\\SSL.py\u001b[0m in \u001b[0;36m_raise_ssl_error\u001b[1;34m(self, ssl, result)\u001b[0m\n\u001b[0;32m   1639\u001b[0m                         \u001b[1;32mraise\u001b[0m \u001b[0mSysCallError\u001b[0m\u001b[1;33m(\u001b[0m\u001b[0merrno\u001b[0m\u001b[1;33m,\u001b[0m \u001b[0merrorcode\u001b[0m\u001b[1;33m.\u001b[0m\u001b[0mget\u001b[0m\u001b[1;33m(\u001b[0m\u001b[0merrno\u001b[0m\u001b[1;33m)\u001b[0m\u001b[1;33m)\u001b[0m\u001b[1;33m\u001b[0m\u001b[1;33m\u001b[0m\u001b[0m\n\u001b[1;32m-> 1640\u001b[1;33m                 \u001b[1;32mraise\u001b[0m \u001b[0mSysCallError\u001b[0m\u001b[1;33m(\u001b[0m\u001b[1;33m-\u001b[0m\u001b[1;36m1\u001b[0m\u001b[1;33m,\u001b[0m \u001b[1;34m\"Unexpected EOF\"\u001b[0m\u001b[1;33m)\u001b[0m\u001b[1;33m\u001b[0m\u001b[1;33m\u001b[0m\u001b[0m\n\u001b[0m\u001b[0;32m   1641\u001b[0m             \u001b[1;32melse\u001b[0m\u001b[1;33m:\u001b[0m\u001b[1;33m\u001b[0m\u001b[1;33m\u001b[0m\u001b[0m\n",
      "\u001b[1;31mSysCallError\u001b[0m: (-1, 'Unexpected EOF')",
      "\nDuring handling of the above exception, another exception occurred:\n",
      "\u001b[1;31mSSLError\u001b[0m                                  Traceback (most recent call last)",
      "\u001b[1;32m~\\Anaconda3\\lib\\site-packages\\urllib3\\connectionpool.py\u001b[0m in \u001b[0;36murlopen\u001b[1;34m(self, method, url, body, headers, retries, redirect, assert_same_host, timeout, pool_timeout, release_conn, chunked, body_pos, **response_kw)\u001b[0m\n\u001b[0;32m    599\u001b[0m                                                   \u001b[0mbody\u001b[0m\u001b[1;33m=\u001b[0m\u001b[0mbody\u001b[0m\u001b[1;33m,\u001b[0m \u001b[0mheaders\u001b[0m\u001b[1;33m=\u001b[0m\u001b[0mheaders\u001b[0m\u001b[1;33m,\u001b[0m\u001b[1;33m\u001b[0m\u001b[1;33m\u001b[0m\u001b[0m\n\u001b[1;32m--> 600\u001b[1;33m                                                   chunked=chunked)\n\u001b[0m\u001b[0;32m    601\u001b[0m \u001b[1;33m\u001b[0m\u001b[0m\n",
      "\u001b[1;32m~\\Anaconda3\\lib\\site-packages\\urllib3\\connectionpool.py\u001b[0m in \u001b[0;36m_make_request\u001b[1;34m(self, conn, method, url, timeout, chunked, **httplib_request_kw)\u001b[0m\n\u001b[0;32m    342\u001b[0m         \u001b[1;32mtry\u001b[0m\u001b[1;33m:\u001b[0m\u001b[1;33m\u001b[0m\u001b[1;33m\u001b[0m\u001b[0m\n\u001b[1;32m--> 343\u001b[1;33m             \u001b[0mself\u001b[0m\u001b[1;33m.\u001b[0m\u001b[0m_validate_conn\u001b[0m\u001b[1;33m(\u001b[0m\u001b[0mconn\u001b[0m\u001b[1;33m)\u001b[0m\u001b[1;33m\u001b[0m\u001b[1;33m\u001b[0m\u001b[0m\n\u001b[0m\u001b[0;32m    344\u001b[0m         \u001b[1;32mexcept\u001b[0m \u001b[1;33m(\u001b[0m\u001b[0mSocketTimeout\u001b[0m\u001b[1;33m,\u001b[0m \u001b[0mBaseSSLError\u001b[0m\u001b[1;33m)\u001b[0m \u001b[1;32mas\u001b[0m \u001b[0me\u001b[0m\u001b[1;33m:\u001b[0m\u001b[1;33m\u001b[0m\u001b[1;33m\u001b[0m\u001b[0m\n",
      "\u001b[1;32m~\\Anaconda3\\lib\\site-packages\\urllib3\\connectionpool.py\u001b[0m in \u001b[0;36m_validate_conn\u001b[1;34m(self, conn)\u001b[0m\n\u001b[0;32m    838\u001b[0m         \u001b[1;32mif\u001b[0m \u001b[1;32mnot\u001b[0m \u001b[0mgetattr\u001b[0m\u001b[1;33m(\u001b[0m\u001b[0mconn\u001b[0m\u001b[1;33m,\u001b[0m \u001b[1;34m'sock'\u001b[0m\u001b[1;33m,\u001b[0m \u001b[1;32mNone\u001b[0m\u001b[1;33m)\u001b[0m\u001b[1;33m:\u001b[0m  \u001b[1;31m# AppEngine might not have  `.sock`\u001b[0m\u001b[1;33m\u001b[0m\u001b[1;33m\u001b[0m\u001b[0m\n\u001b[1;32m--> 839\u001b[1;33m             \u001b[0mconn\u001b[0m\u001b[1;33m.\u001b[0m\u001b[0mconnect\u001b[0m\u001b[1;33m(\u001b[0m\u001b[1;33m)\u001b[0m\u001b[1;33m\u001b[0m\u001b[1;33m\u001b[0m\u001b[0m\n\u001b[0m\u001b[0;32m    840\u001b[0m \u001b[1;33m\u001b[0m\u001b[0m\n",
      "\u001b[1;32m~\\Anaconda3\\lib\\site-packages\\urllib3\\connection.py\u001b[0m in \u001b[0;36mconnect\u001b[1;34m(self)\u001b[0m\n\u001b[0;32m    343\u001b[0m             \u001b[0mserver_hostname\u001b[0m\u001b[1;33m=\u001b[0m\u001b[0mserver_hostname\u001b[0m\u001b[1;33m,\u001b[0m\u001b[1;33m\u001b[0m\u001b[1;33m\u001b[0m\u001b[0m\n\u001b[1;32m--> 344\u001b[1;33m             ssl_context=context)\n\u001b[0m\u001b[0;32m    345\u001b[0m \u001b[1;33m\u001b[0m\u001b[0m\n",
      "\u001b[1;32m~\\Anaconda3\\lib\\site-packages\\urllib3\\util\\ssl_.py\u001b[0m in \u001b[0;36mssl_wrap_socket\u001b[1;34m(sock, keyfile, certfile, cert_reqs, ca_certs, server_hostname, ssl_version, ciphers, ssl_context, ca_cert_dir)\u001b[0m\n\u001b[0;32m    346\u001b[0m         \u001b[1;32mif\u001b[0m \u001b[0mHAS_SNI\u001b[0m \u001b[1;32mand\u001b[0m \u001b[0mserver_hostname\u001b[0m \u001b[1;32mis\u001b[0m \u001b[1;32mnot\u001b[0m \u001b[1;32mNone\u001b[0m\u001b[1;33m:\u001b[0m\u001b[1;33m\u001b[0m\u001b[1;33m\u001b[0m\u001b[0m\n\u001b[1;32m--> 347\u001b[1;33m             \u001b[1;32mreturn\u001b[0m \u001b[0mcontext\u001b[0m\u001b[1;33m.\u001b[0m\u001b[0mwrap_socket\u001b[0m\u001b[1;33m(\u001b[0m\u001b[0msock\u001b[0m\u001b[1;33m,\u001b[0m \u001b[0mserver_hostname\u001b[0m\u001b[1;33m=\u001b[0m\u001b[0mserver_hostname\u001b[0m\u001b[1;33m)\u001b[0m\u001b[1;33m\u001b[0m\u001b[1;33m\u001b[0m\u001b[0m\n\u001b[0m\u001b[0;32m    348\u001b[0m \u001b[1;33m\u001b[0m\u001b[0m\n",
      "\u001b[1;32m~\\Anaconda3\\lib\\site-packages\\urllib3\\contrib\\pyopenssl.py\u001b[0m in \u001b[0;36mwrap_socket\u001b[1;34m(self, sock, server_side, do_handshake_on_connect, suppress_ragged_eofs, server_hostname)\u001b[0m\n\u001b[0;32m    461\u001b[0m             \u001b[1;32mexcept\u001b[0m \u001b[0mOpenSSL\u001b[0m\u001b[1;33m.\u001b[0m\u001b[0mSSL\u001b[0m\u001b[1;33m.\u001b[0m\u001b[0mError\u001b[0m \u001b[1;32mas\u001b[0m \u001b[0me\u001b[0m\u001b[1;33m:\u001b[0m\u001b[1;33m\u001b[0m\u001b[1;33m\u001b[0m\u001b[0m\n\u001b[1;32m--> 462\u001b[1;33m                 \u001b[1;32mraise\u001b[0m \u001b[0mssl\u001b[0m\u001b[1;33m.\u001b[0m\u001b[0mSSLError\u001b[0m\u001b[1;33m(\u001b[0m\u001b[1;34m'bad handshake: %r'\u001b[0m \u001b[1;33m%\u001b[0m \u001b[0me\u001b[0m\u001b[1;33m)\u001b[0m\u001b[1;33m\u001b[0m\u001b[1;33m\u001b[0m\u001b[0m\n\u001b[0m\u001b[0;32m    463\u001b[0m             \u001b[1;32mbreak\u001b[0m\u001b[1;33m\u001b[0m\u001b[1;33m\u001b[0m\u001b[0m\n",
      "\u001b[1;31mSSLError\u001b[0m: (\"bad handshake: SysCallError(-1, 'Unexpected EOF')\",)",
      "\nDuring handling of the above exception, another exception occurred:\n",
      "\u001b[1;31mMaxRetryError\u001b[0m                             Traceback (most recent call last)",
      "\u001b[1;32m~\\Anaconda3\\lib\\site-packages\\requests\\adapters.py\u001b[0m in \u001b[0;36msend\u001b[1;34m(self, request, stream, timeout, verify, cert, proxies)\u001b[0m\n\u001b[0;32m    448\u001b[0m                     \u001b[0mretries\u001b[0m\u001b[1;33m=\u001b[0m\u001b[0mself\u001b[0m\u001b[1;33m.\u001b[0m\u001b[0mmax_retries\u001b[0m\u001b[1;33m,\u001b[0m\u001b[1;33m\u001b[0m\u001b[1;33m\u001b[0m\u001b[0m\n\u001b[1;32m--> 449\u001b[1;33m                     \u001b[0mtimeout\u001b[0m\u001b[1;33m=\u001b[0m\u001b[0mtimeout\u001b[0m\u001b[1;33m\u001b[0m\u001b[1;33m\u001b[0m\u001b[0m\n\u001b[0m\u001b[0;32m    450\u001b[0m                 )\n",
      "\u001b[1;32m~\\Anaconda3\\lib\\site-packages\\urllib3\\connectionpool.py\u001b[0m in \u001b[0;36murlopen\u001b[1;34m(self, method, url, body, headers, retries, redirect, assert_same_host, timeout, pool_timeout, release_conn, chunked, body_pos, **response_kw)\u001b[0m\n\u001b[0;32m    637\u001b[0m             retries = retries.increment(method, url, error=e, _pool=self,\n\u001b[1;32m--> 638\u001b[1;33m                                         _stacktrace=sys.exc_info()[2])\n\u001b[0m\u001b[0;32m    639\u001b[0m             \u001b[0mretries\u001b[0m\u001b[1;33m.\u001b[0m\u001b[0msleep\u001b[0m\u001b[1;33m(\u001b[0m\u001b[1;33m)\u001b[0m\u001b[1;33m\u001b[0m\u001b[1;33m\u001b[0m\u001b[0m\n",
      "\u001b[1;32m~\\Anaconda3\\lib\\site-packages\\urllib3\\util\\retry.py\u001b[0m in \u001b[0;36mincrement\u001b[1;34m(self, method, url, response, error, _pool, _stacktrace)\u001b[0m\n\u001b[0;32m    398\u001b[0m         \u001b[1;32mif\u001b[0m \u001b[0mnew_retry\u001b[0m\u001b[1;33m.\u001b[0m\u001b[0mis_exhausted\u001b[0m\u001b[1;33m(\u001b[0m\u001b[1;33m)\u001b[0m\u001b[1;33m:\u001b[0m\u001b[1;33m\u001b[0m\u001b[1;33m\u001b[0m\u001b[0m\n\u001b[1;32m--> 399\u001b[1;33m             \u001b[1;32mraise\u001b[0m \u001b[0mMaxRetryError\u001b[0m\u001b[1;33m(\u001b[0m\u001b[0m_pool\u001b[0m\u001b[1;33m,\u001b[0m \u001b[0murl\u001b[0m\u001b[1;33m,\u001b[0m \u001b[0merror\u001b[0m \u001b[1;32mor\u001b[0m \u001b[0mResponseError\u001b[0m\u001b[1;33m(\u001b[0m\u001b[0mcause\u001b[0m\u001b[1;33m)\u001b[0m\u001b[1;33m)\u001b[0m\u001b[1;33m\u001b[0m\u001b[1;33m\u001b[0m\u001b[0m\n\u001b[0m\u001b[0;32m    400\u001b[0m \u001b[1;33m\u001b[0m\u001b[0m\n",
      "\u001b[1;31mMaxRetryError\u001b[0m: HTTPSConnectionPool(host='gsmarena.com', port=443): Max retries exceeded with url: /samsung-phones-9.php (Caused by SSLError(SSLError(\"bad handshake: SysCallError(-1, 'Unexpected EOF')\")))",
      "\nDuring handling of the above exception, another exception occurred:\n",
      "\u001b[1;31mSSLError\u001b[0m                                  Traceback (most recent call last)",
      "\u001b[1;32m<ipython-input-208-27b01718dee8>\u001b[0m in \u001b[0;36m<module>\u001b[1;34m\u001b[0m\n\u001b[0;32m      1\u001b[0m \u001b[1;32mfor\u001b[0m \u001b[0mk\u001b[0m \u001b[1;32min\u001b[0m \u001b[0mjson_brands\u001b[0m\u001b[1;33m.\u001b[0m\u001b[0mkeys\u001b[0m\u001b[1;33m(\u001b[0m\u001b[1;33m)\u001b[0m\u001b[1;33m:\u001b[0m\u001b[1;33m\u001b[0m\u001b[1;33m\u001b[0m\u001b[0m\n\u001b[0;32m      2\u001b[0m \u001b[1;33m\u001b[0m\u001b[0m\n\u001b[1;32m----> 3\u001b[1;33m     \u001b[0mpage_products\u001b[0m \u001b[1;33m=\u001b[0m \u001b[0mrequests\u001b[0m\u001b[1;33m.\u001b[0m\u001b[0mget\u001b[0m\u001b[1;33m(\u001b[0m\u001b[0mjson_brands\u001b[0m\u001b[1;33m[\u001b[0m\u001b[0mk\u001b[0m\u001b[1;33m]\u001b[0m\u001b[1;33m[\u001b[0m\u001b[1;34m'link'\u001b[0m\u001b[1;33m]\u001b[0m\u001b[1;33m)\u001b[0m\u001b[1;33m\u001b[0m\u001b[1;33m\u001b[0m\u001b[0m\n\u001b[0m\u001b[0;32m      4\u001b[0m     \u001b[0msoup_products\u001b[0m \u001b[1;33m=\u001b[0m \u001b[0mBeautifulSoup\u001b[0m\u001b[1;33m(\u001b[0m\u001b[0mpage_products\u001b[0m\u001b[1;33m.\u001b[0m\u001b[0mcontent\u001b[0m\u001b[1;33m,\u001b[0m \u001b[1;34m'html.parser'\u001b[0m\u001b[1;33m)\u001b[0m\u001b[1;33m\u001b[0m\u001b[1;33m\u001b[0m\u001b[0m\n\u001b[0;32m      5\u001b[0m     \u001b[0mlist_products\u001b[0m \u001b[1;33m=\u001b[0m \u001b[0msoup_products\u001b[0m\u001b[1;33m.\u001b[0m\u001b[0mselect\u001b[0m\u001b[1;33m(\u001b[0m\u001b[1;34m\"#review-body a\"\u001b[0m\u001b[1;33m)\u001b[0m\u001b[1;33m\u001b[0m\u001b[1;33m\u001b[0m\u001b[0m\n",
      "\u001b[1;32m~\\Anaconda3\\lib\\site-packages\\requests\\api.py\u001b[0m in \u001b[0;36mget\u001b[1;34m(url, params, **kwargs)\u001b[0m\n\u001b[0;32m     73\u001b[0m \u001b[1;33m\u001b[0m\u001b[0m\n\u001b[0;32m     74\u001b[0m     \u001b[0mkwargs\u001b[0m\u001b[1;33m.\u001b[0m\u001b[0msetdefault\u001b[0m\u001b[1;33m(\u001b[0m\u001b[1;34m'allow_redirects'\u001b[0m\u001b[1;33m,\u001b[0m \u001b[1;32mTrue\u001b[0m\u001b[1;33m)\u001b[0m\u001b[1;33m\u001b[0m\u001b[1;33m\u001b[0m\u001b[0m\n\u001b[1;32m---> 75\u001b[1;33m     \u001b[1;32mreturn\u001b[0m \u001b[0mrequest\u001b[0m\u001b[1;33m(\u001b[0m\u001b[1;34m'get'\u001b[0m\u001b[1;33m,\u001b[0m \u001b[0murl\u001b[0m\u001b[1;33m,\u001b[0m \u001b[0mparams\u001b[0m\u001b[1;33m=\u001b[0m\u001b[0mparams\u001b[0m\u001b[1;33m,\u001b[0m \u001b[1;33m**\u001b[0m\u001b[0mkwargs\u001b[0m\u001b[1;33m)\u001b[0m\u001b[1;33m\u001b[0m\u001b[1;33m\u001b[0m\u001b[0m\n\u001b[0m\u001b[0;32m     76\u001b[0m \u001b[1;33m\u001b[0m\u001b[0m\n\u001b[0;32m     77\u001b[0m \u001b[1;33m\u001b[0m\u001b[0m\n",
      "\u001b[1;32m~\\Anaconda3\\lib\\site-packages\\requests\\api.py\u001b[0m in \u001b[0;36mrequest\u001b[1;34m(method, url, **kwargs)\u001b[0m\n\u001b[0;32m     58\u001b[0m     \u001b[1;31m# cases, and look like a memory leak in others.\u001b[0m\u001b[1;33m\u001b[0m\u001b[1;33m\u001b[0m\u001b[1;33m\u001b[0m\u001b[0m\n\u001b[0;32m     59\u001b[0m     \u001b[1;32mwith\u001b[0m \u001b[0msessions\u001b[0m\u001b[1;33m.\u001b[0m\u001b[0mSession\u001b[0m\u001b[1;33m(\u001b[0m\u001b[1;33m)\u001b[0m \u001b[1;32mas\u001b[0m \u001b[0msession\u001b[0m\u001b[1;33m:\u001b[0m\u001b[1;33m\u001b[0m\u001b[1;33m\u001b[0m\u001b[0m\n\u001b[1;32m---> 60\u001b[1;33m         \u001b[1;32mreturn\u001b[0m \u001b[0msession\u001b[0m\u001b[1;33m.\u001b[0m\u001b[0mrequest\u001b[0m\u001b[1;33m(\u001b[0m\u001b[0mmethod\u001b[0m\u001b[1;33m=\u001b[0m\u001b[0mmethod\u001b[0m\u001b[1;33m,\u001b[0m \u001b[0murl\u001b[0m\u001b[1;33m=\u001b[0m\u001b[0murl\u001b[0m\u001b[1;33m,\u001b[0m \u001b[1;33m**\u001b[0m\u001b[0mkwargs\u001b[0m\u001b[1;33m)\u001b[0m\u001b[1;33m\u001b[0m\u001b[1;33m\u001b[0m\u001b[0m\n\u001b[0m\u001b[0;32m     61\u001b[0m \u001b[1;33m\u001b[0m\u001b[0m\n\u001b[0;32m     62\u001b[0m \u001b[1;33m\u001b[0m\u001b[0m\n",
      "\u001b[1;32m~\\Anaconda3\\lib\\site-packages\\requests\\sessions.py\u001b[0m in \u001b[0;36mrequest\u001b[1;34m(self, method, url, params, data, headers, cookies, files, auth, timeout, allow_redirects, proxies, hooks, stream, verify, cert, json)\u001b[0m\n\u001b[0;32m    531\u001b[0m         }\n\u001b[0;32m    532\u001b[0m         \u001b[0msend_kwargs\u001b[0m\u001b[1;33m.\u001b[0m\u001b[0mupdate\u001b[0m\u001b[1;33m(\u001b[0m\u001b[0msettings\u001b[0m\u001b[1;33m)\u001b[0m\u001b[1;33m\u001b[0m\u001b[1;33m\u001b[0m\u001b[0m\n\u001b[1;32m--> 533\u001b[1;33m         \u001b[0mresp\u001b[0m \u001b[1;33m=\u001b[0m \u001b[0mself\u001b[0m\u001b[1;33m.\u001b[0m\u001b[0msend\u001b[0m\u001b[1;33m(\u001b[0m\u001b[0mprep\u001b[0m\u001b[1;33m,\u001b[0m \u001b[1;33m**\u001b[0m\u001b[0msend_kwargs\u001b[0m\u001b[1;33m)\u001b[0m\u001b[1;33m\u001b[0m\u001b[1;33m\u001b[0m\u001b[0m\n\u001b[0m\u001b[0;32m    534\u001b[0m \u001b[1;33m\u001b[0m\u001b[0m\n\u001b[0;32m    535\u001b[0m         \u001b[1;32mreturn\u001b[0m \u001b[0mresp\u001b[0m\u001b[1;33m\u001b[0m\u001b[1;33m\u001b[0m\u001b[0m\n",
      "\u001b[1;32m~\\Anaconda3\\lib\\site-packages\\requests\\sessions.py\u001b[0m in \u001b[0;36msend\u001b[1;34m(self, request, **kwargs)\u001b[0m\n\u001b[0;32m    644\u001b[0m \u001b[1;33m\u001b[0m\u001b[0m\n\u001b[0;32m    645\u001b[0m         \u001b[1;31m# Send the request\u001b[0m\u001b[1;33m\u001b[0m\u001b[1;33m\u001b[0m\u001b[1;33m\u001b[0m\u001b[0m\n\u001b[1;32m--> 646\u001b[1;33m         \u001b[0mr\u001b[0m \u001b[1;33m=\u001b[0m \u001b[0madapter\u001b[0m\u001b[1;33m.\u001b[0m\u001b[0msend\u001b[0m\u001b[1;33m(\u001b[0m\u001b[0mrequest\u001b[0m\u001b[1;33m,\u001b[0m \u001b[1;33m**\u001b[0m\u001b[0mkwargs\u001b[0m\u001b[1;33m)\u001b[0m\u001b[1;33m\u001b[0m\u001b[1;33m\u001b[0m\u001b[0m\n\u001b[0m\u001b[0;32m    647\u001b[0m \u001b[1;33m\u001b[0m\u001b[0m\n\u001b[0;32m    648\u001b[0m         \u001b[1;31m# Total elapsed time of the request (approximately)\u001b[0m\u001b[1;33m\u001b[0m\u001b[1;33m\u001b[0m\u001b[1;33m\u001b[0m\u001b[0m\n",
      "\u001b[1;32m~\\Anaconda3\\lib\\site-packages\\requests\\adapters.py\u001b[0m in \u001b[0;36msend\u001b[1;34m(self, request, stream, timeout, verify, cert, proxies)\u001b[0m\n\u001b[0;32m    512\u001b[0m             \u001b[1;32mif\u001b[0m \u001b[0misinstance\u001b[0m\u001b[1;33m(\u001b[0m\u001b[0me\u001b[0m\u001b[1;33m.\u001b[0m\u001b[0mreason\u001b[0m\u001b[1;33m,\u001b[0m \u001b[0m_SSLError\u001b[0m\u001b[1;33m)\u001b[0m\u001b[1;33m:\u001b[0m\u001b[1;33m\u001b[0m\u001b[1;33m\u001b[0m\u001b[0m\n\u001b[0;32m    513\u001b[0m                 \u001b[1;31m# This branch is for urllib3 v1.22 and later.\u001b[0m\u001b[1;33m\u001b[0m\u001b[1;33m\u001b[0m\u001b[1;33m\u001b[0m\u001b[0m\n\u001b[1;32m--> 514\u001b[1;33m                 \u001b[1;32mraise\u001b[0m \u001b[0mSSLError\u001b[0m\u001b[1;33m(\u001b[0m\u001b[0me\u001b[0m\u001b[1;33m,\u001b[0m \u001b[0mrequest\u001b[0m\u001b[1;33m=\u001b[0m\u001b[0mrequest\u001b[0m\u001b[1;33m)\u001b[0m\u001b[1;33m\u001b[0m\u001b[1;33m\u001b[0m\u001b[0m\n\u001b[0m\u001b[0;32m    515\u001b[0m \u001b[1;33m\u001b[0m\u001b[0m\n\u001b[0;32m    516\u001b[0m             \u001b[1;32mraise\u001b[0m \u001b[0mConnectionError\u001b[0m\u001b[1;33m(\u001b[0m\u001b[0me\u001b[0m\u001b[1;33m,\u001b[0m \u001b[0mrequest\u001b[0m\u001b[1;33m=\u001b[0m\u001b[0mrequest\u001b[0m\u001b[1;33m)\u001b[0m\u001b[1;33m\u001b[0m\u001b[1;33m\u001b[0m\u001b[0m\n",
      "\u001b[1;31mSSLError\u001b[0m: HTTPSConnectionPool(host='gsmarena.com', port=443): Max retries exceeded with url: /samsung-phones-9.php (Caused by SSLError(SSLError(\"bad handshake: SysCallError(-1, 'Unexpected EOF')\")))"
     ]
    }
   ],
   "source": [
    "for k in json_brands.keys():\n",
    "    \n",
    "    page_products = requests.get(json_brands[k]['link'])\n",
    "    soup_products = BeautifulSoup(page_products.content, 'html.parser')\n",
    "    list_products = soup_products.select(\"#review-body a\")\n",
    "\n",
    "    json_products = { x.get_text():{ 'link':'https://gsmarena.com/'+x.get('href'),'display':[] } for x in  list_products}\n",
    "    for j in json_products.keys():\n",
    "        page_model = requests.get(json_products[j]['link'])\n",
    "        soup_model = BeautifulSoup(page_model.content, 'html.parser')\n",
    "        list_model = soup_model.find_all('td',class_=\"nfo\",attrs={'data-spec': x})\n",
    "# list_model = soup_model.find_all(string='Display')\n",
    "\n",
    "# print(list_model.get('data-spec'))\n",
    "        json_model = { x.get('data-spec'): x.get_text() for x in  list_model}\n",
    "        json_products[j]['display'].append(json_model)\n",
    "# json_model\n",
    "        \n",
    "    json_brands[k]['products'].append(json_model)\n",
    "    \n",
    "#     json_products\n",
    "json_brands"
   ]
  },
  {
   "cell_type": "code",
   "execution_count": 86,
   "metadata": {
    "collapsed": true
   },
   "outputs": [
    {
     "data": {
      "text/plain": [
       "{'Galaxy M21': {'link': 'https://gsmarena.com/samsung_galaxy_m21-10111.php',\n",
       "  'display': []},\n",
       " 'Galaxy A11': {'link': 'https://gsmarena.com/samsung_galaxy_a11-10132.php',\n",
       "  'display': []},\n",
       " 'Galaxy M31': {'link': 'https://gsmarena.com/samsung_galaxy_m31-10079.php',\n",
       "  'display': []},\n",
       " 'Galaxy S20 Ultra 5G': {'link': 'https://gsmarena.com/samsung_galaxy_s20_ultra_5g-10040.php',\n",
       "  'display': []},\n",
       " 'Galaxy S20 Ultra': {'link': 'https://gsmarena.com/samsung_galaxy_s20_ultra-10084.php',\n",
       "  'display': []},\n",
       " 'Galaxy S20+ 5G': {'link': 'https://gsmarena.com/samsung_galaxy_s20+_5g-10041.php',\n",
       "  'display': []},\n",
       " 'Galaxy S20+': {'link': 'https://gsmarena.com/samsung_galaxy_s20+-10080.php',\n",
       "  'display': []},\n",
       " 'Galaxy S20 5G': {'link': 'https://gsmarena.com/samsung_galaxy_s20_5g-10044.php',\n",
       "  'display': []},\n",
       " 'Galaxy S20': {'link': 'https://gsmarena.com/samsung_galaxy_s20-10081.php',\n",
       "  'display': []},\n",
       " 'Galaxy Z Flip': {'link': 'https://gsmarena.com/samsung_galaxy_z_flip-10054.php',\n",
       "  'display': []},\n",
       " 'Galaxy Tab S6 5G': {'link': 'https://gsmarena.com/samsung_galaxy_tab_s6_5g-10004.php',\n",
       "  'display': []},\n",
       " 'Galaxy Xcover Pro': {'link': 'https://gsmarena.com/samsung_galaxy_xcover_pro-10001.php',\n",
       "  'display': []},\n",
       " 'Galaxy Note10 Lite': {'link': 'https://gsmarena.com/samsung_galaxy_note10_lite-10003.php',\n",
       "  'display': []},\n",
       " 'Galaxy S10 Lite': {'link': 'https://gsmarena.com/samsung_galaxy_s10_lite-9917.php',\n",
       "  'display': []},\n",
       " 'Galaxy A01': {'link': 'https://gsmarena.com/samsung_galaxy_a01-9999.php',\n",
       "  'display': []},\n",
       " 'Galaxy A71': {'link': 'https://gsmarena.com/samsung_galaxy_a71-9995.php',\n",
       "  'display': []},\n",
       " 'Galaxy A51': {'link': 'https://gsmarena.com/samsung_galaxy_a51-9963.php',\n",
       "  'display': []},\n",
       " 'Galaxy Xcover FieldPro': {'link': 'https://gsmarena.com/samsung_galaxy_xcover_fieldpro-9937.php',\n",
       "  'display': []},\n",
       " 'Galaxy A70s': {'link': 'https://gsmarena.com/samsung_galaxy_a70s-9899.php',\n",
       "  'display': []},\n",
       " 'Galaxy A20s': {'link': 'https://gsmarena.com/samsung_galaxy_a20s-9852.php',\n",
       "  'display': []},\n",
       " 'Galaxy M30s': {'link': 'https://gsmarena.com/samsung_galaxy_m30s-9818.php',\n",
       "  'display': []},\n",
       " 'Galaxy M10s': {'link': 'https://gsmarena.com/samsung_galaxy_m10s-9861.php',\n",
       "  'display': []},\n",
       " 'Galaxy Fold 5G': {'link': 'https://gsmarena.com/samsung_galaxy_fold_5g-9851.php',\n",
       "  'display': []},\n",
       " 'Galaxy Fold': {'link': 'https://gsmarena.com/samsung_galaxy_fold-9523.php',\n",
       "  'display': []},\n",
       " 'Galaxy Tab Active Pro': {'link': 'https://gsmarena.com/samsung_galaxy_tab_active_pro-9850.php',\n",
       "  'display': []},\n",
       " 'Galaxy A90 5G': {'link': 'https://gsmarena.com/samsung_galaxy_a90_5g-9795.php',\n",
       "  'display': []},\n",
       " 'Galaxy A30s': {'link': 'https://gsmarena.com/samsung_galaxy_a30s-9796.php',\n",
       "  'display': []},\n",
       " 'Galaxy A50s': {'link': 'https://gsmarena.com/samsung_galaxy_a50s-9806.php',\n",
       "  'display': []},\n",
       " 'Galaxy Note10+ 5G': {'link': 'https://gsmarena.com/samsung_galaxy_note10+_5g-9787.php',\n",
       "  'display': []},\n",
       " 'Galaxy Note10+': {'link': 'https://gsmarena.com/samsung_galaxy_note10+-9732.php',\n",
       "  'display': []},\n",
       " 'Galaxy Note10 5G': {'link': 'https://gsmarena.com/samsung_galaxy_note10_5g-9789.php',\n",
       "  'display': []},\n",
       " 'Galaxy Note10': {'link': 'https://gsmarena.com/samsung_galaxy_note10-9788.php',\n",
       "  'display': []},\n",
       " 'Galaxy Watch Active2': {'link': 'https://gsmarena.com/samsung_galaxy_watch_active2-9784.php',\n",
       "  'display': []},\n",
       " 'Galaxy Watch Active2 Aluminum': {'link': 'https://gsmarena.com/samsung_galaxy_watch_active2_aluminum-9786.php',\n",
       "  'display': []},\n",
       " 'Galaxy A10s': {'link': 'https://gsmarena.com/samsung_galaxy_a10s-9793.php',\n",
       "  'display': []},\n",
       " 'Galaxy A10e': {'link': 'https://gsmarena.com/samsung_galaxy_a10e-9790.php',\n",
       "  'display': []},\n",
       " 'Galaxy Tab S6': {'link': 'https://gsmarena.com/samsung_galaxy_tab_s6-9781.php',\n",
       "  'display': []},\n",
       " 'Galaxy Tab A 8.0 (2019)': {'link': 'https://gsmarena.com/samsung_galaxy_tab_a_8_0_(2019)-9760.php',\n",
       "  'display': []},\n",
       " 'Galaxy Xcover 4s': {'link': 'https://gsmarena.com/samsung_galaxy_xcover_4s-9730.php',\n",
       "  'display': []},\n",
       " 'Galaxy A2 Core': {'link': 'https://gsmarena.com/samsung_galaxy_a2_core-9636.php',\n",
       "  'display': []},\n",
       " 'Galaxy Watch Active': {'link': 'https://gsmarena.com/samsung_galaxy_watch_active-9589.php',\n",
       "  'display': []},\n",
       " 'Galaxy View2': {'link': 'https://gsmarena.com/samsung_galaxy_view2-9672.php',\n",
       "  'display': []},\n",
       " 'Galaxy S10 5G': {'link': 'https://gsmarena.com/samsung_galaxy_s10_5g-9588.php',\n",
       "  'display': []},\n",
       " 'Galaxy S10+': {'link': 'https://gsmarena.com/samsung_galaxy_s10+-9535.php',\n",
       "  'display': []},\n",
       " 'Galaxy S10': {'link': 'https://gsmarena.com/samsung_galaxy_s10-9536.php',\n",
       "  'display': []},\n",
       " 'Galaxy S10e': {'link': 'https://gsmarena.com/samsung_galaxy_s10e-9537.php',\n",
       "  'display': []},\n",
       " 'Galaxy M40': {'link': 'https://gsmarena.com/samsung_galaxy_m40-9721.php',\n",
       "  'display': []},\n",
       " 'Galaxy M30': {'link': 'https://gsmarena.com/samsung_galaxy_m30-9505.php',\n",
       "  'display': []},\n",
       " 'Galaxy M20': {'link': 'https://gsmarena.com/samsung_galaxy_m20-9506.php',\n",
       "  'display': []},\n",
       " 'Galaxy M10': {'link': 'https://gsmarena.com/samsung_galaxy_m10-9508.php',\n",
       "  'display': []},\n",
       " 'Galaxy A80': {'link': 'https://gsmarena.com/samsung_galaxy_a80-9659.php',\n",
       "  'display': []},\n",
       " 'Galaxy A70': {'link': 'https://gsmarena.com/samsung_galaxy_a70-9646.php',\n",
       "  'display': []},\n",
       " 'Galaxy A60': {'link': 'https://gsmarena.com/samsung_galaxy_a60-9616.php',\n",
       "  'display': []},\n",
       " 'Galaxy A50': {'link': 'https://gsmarena.com/samsung_galaxy_a50-9554.php',\n",
       "  'display': []},\n",
       " 'Galaxy A40': {'link': 'https://gsmarena.com/samsung_galaxy_a40-9642.php',\n",
       "  'display': []},\n",
       " 'Galaxy A30': {'link': 'https://gsmarena.com/samsung_galaxy_a30-9579.php',\n",
       "  'display': []},\n",
       " 'Galaxy A20e': {'link': 'https://gsmarena.com/samsung_galaxy_a20e-9661.php',\n",
       "  'display': []},\n",
       " 'Galaxy A20': {'link': 'https://gsmarena.com/samsung_galaxy_a20-9640.php',\n",
       "  'display': []},\n",
       " 'Galaxy A10': {'link': 'https://gsmarena.com/samsung_galaxy_a10-9580.php',\n",
       "  'display': []},\n",
       " 'Galaxy Tab S5e': {'link': 'https://gsmarena.com/samsung_galaxy_tab_s5e-9581.php',\n",
       "  'display': []},\n",
       " 'Galaxy Tab A 10.1 (2019)': {'link': 'https://gsmarena.com/samsung_galaxy_tab_a_10_1_(2019)-9582.php',\n",
       "  'display': []},\n",
       " 'Galaxy Tab A 8.0 & S Pen (2019)': {'link': 'https://gsmarena.com/samsung_galaxy_tab_a_8_0_&_s_pen_(2019)-9651.php',\n",
       "  'display': []},\n",
       " 'Galaxy Tab Advanced2': {'link': 'https://gsmarena.com/samsung_galaxy_tab_advanced2-9264.php',\n",
       "  'display': []},\n",
       " 'Galaxy Tab A 8.0 (2018)': {'link': 'https://gsmarena.com/samsung_galaxy_tab_a_8_0_(2018)-9665.php',\n",
       "  'display': []},\n",
       " 'Galaxy Tab S4 10.5': {'link': 'https://gsmarena.com/samsung_galaxy_tab_s4_10_5-9262.php',\n",
       "  'display': []},\n",
       " 'Galaxy Tab A 10.5': {'link': 'https://gsmarena.com/samsung_galaxy_tab_a_10_5-9263.php',\n",
       "  'display': []},\n",
       " 'Galaxy A8s': {'link': 'https://gsmarena.com/samsung_galaxy_a8s-9432.php',\n",
       "  'display': []},\n",
       " 'Galaxy A6s': {'link': 'https://gsmarena.com/samsung_galaxy_a6s-9352.php',\n",
       "  'display': []},\n",
       " 'Galaxy A9 (2018)': {'link': 'https://gsmarena.com/samsung_galaxy_a9_(2018)-9344.php',\n",
       "  'display': []},\n",
       " 'Galaxy A7 (2018)': {'link': 'https://gsmarena.com/samsung_galaxy_a7_(2018)-9340.php',\n",
       "  'display': []},\n",
       " 'Galaxy Note9': {'link': 'https://gsmarena.com/samsung_galaxy_note9-9163.php',\n",
       "  'display': []},\n",
       " 'Galaxy Watch': {'link': 'https://gsmarena.com/samsung_galaxy_watch-9289.php',\n",
       "  'display': []},\n",
       " 'Galaxy J6+': {'link': 'https://gsmarena.com/samsung_galaxy_j6+-9334.php',\n",
       "  'display': []},\n",
       " 'Galaxy J4 Core': {'link': 'https://gsmarena.com/samsung_galaxy_j4_core-9397.php',\n",
       "  'display': []},\n",
       " 'Galaxy J4+': {'link': 'https://gsmarena.com/samsung_galaxy_j4+-9335.php',\n",
       "  'display': []},\n",
       " 'Galaxy J2 Core': {'link': 'https://gsmarena.com/samsung_galaxy_j2_core-9255.php',\n",
       "  'display': []},\n",
       " 'Galaxy On6': {'link': 'https://gsmarena.com/samsung_galaxy_on6-9260.php',\n",
       "  'display': []},\n",
       " 'Galaxy J7 (2018)': {'link': 'https://gsmarena.com/samsung_galaxy_j7_(2018)-9234.php',\n",
       "  'display': []},\n",
       " 'Galaxy J3 (2018)': {'link': 'https://gsmarena.com/samsung_galaxy_j3_(2018)-8928.php',\n",
       "  'display': []},\n",
       " 'Galaxy A8 Star (A9 Star)': {'link': 'https://gsmarena.com/samsung_galaxy_a8_star_(a9_star)-9220.php',\n",
       "  'display': []},\n",
       " 'Galaxy S Light Luxury': {'link': 'https://gsmarena.com/samsung_galaxy_s_light_luxury-9202.php',\n",
       "  'display': []},\n",
       " 'Galaxy J8': {'link': 'https://gsmarena.com/samsung_galaxy_j8-9205.php',\n",
       "  'display': []},\n",
       " 'Galaxy J6': {'link': 'https://gsmarena.com/samsung_galaxy_j6-9203.php',\n",
       "  'display': []},\n",
       " 'Galaxy J4': {'link': 'https://gsmarena.com/samsung_galaxy_j4-9204.php',\n",
       "  'display': []},\n",
       " 'Galaxy A6+ (2018)': {'link': 'https://gsmarena.com/samsung_galaxy_a6+_(2018)-9156.php',\n",
       "  'display': []}}"
      ]
     },
     "execution_count": 86,
     "metadata": {},
     "output_type": "execute_result"
    }
   ],
   "source": [
    "\n",
    "# json_brands['Samsung']['products'].append(json_model)\n",
    "# json_brands"
   ]
  },
  {
   "cell_type": "code",
   "execution_count": null,
   "metadata": {},
   "outputs": [],
   "source": [
    "# for k in json_brands.keys():\n",
    "#     for j in range(0,json_brands[k]['Products'].length()):\n",
    "#         page_model = requests.get(json_products['Galaxy M21']['link'])\n",
    "#         soup_model = BeautifulSoup(page_model.content, 'html.parser')\n"
   ]
  },
  {
   "cell_type": "code",
   "execution_count": 95,
   "metadata": {},
   "outputs": [],
   "source": [
    "# page_model = requests.get(json_products['Galaxy M21']['link'])\n",
    "# soup_model = BeautifulSoup(page_model.content, 'html.parser')\n"
   ]
  },
  {
   "cell_type": "code",
   "execution_count": 180,
   "metadata": {},
   "outputs": [
    {
     "data": {
      "text/plain": [
       "{'displaytype': 'Super AMOLED capacitive touchscreen, 16M colors',\n",
       " 'displaysize': '6.4 inches, 100.5 cm2 (~84.2% screen-to-body ratio)',\n",
       " 'displayresolution': '1080 x 2340 pixels, 19.5:9 ratio (~403 ppi density)',\n",
       " 'displayprotection': 'Corning Gorilla Glass 3',\n",
       " 'displayother': '420 nits max brightness (advertised)'}"
      ]
     },
     "execution_count": 180,
     "metadata": {},
     "output_type": "execute_result"
    }
   ],
   "source": [
    "# x= re.compile('display*')\n",
    "# list_model = soup_model.find_all('td',class_=\"nfo\",attrs={'data-spec': x})\n",
    "# # list_model = soup_model.find_all(string='Display')\n",
    "\n",
    "# # print(list_model.get('data-spec'))\n",
    "# json_model = { x.get('data-spec'): x.get_text() for x in  list_model}\n",
    "# json_model"
   ]
  },
  {
   "cell_type": "code",
   "execution_count": 13,
   "metadata": {},
   "outputs": [],
   "source": [
    "import requests\n",
    "from lxml.html import fromstring\n",
    "def get_proxies():\n",
    "    url = 'https://free-proxy-list.net/'\n",
    "    response = requests.get(url)\n",
    "    parser = fromstring(response.text)\n",
    "    proxies = set()\n",
    "    for i in parser.xpath('//tbody/tr')[:10]:\n",
    "        if i.xpath('.//td[7][contains(text(),\"yes\")]'):\n",
    "            #Grabbing IP and corresponding PORT\n",
    "            proxy = \":\".join([i.xpath('.//td[1]/text()')[0], i.xpath('.//td[2]/text()')[0]])\n",
    "            proxies.add(proxy)\n",
    "    return proxies"
   ]
  },
  {
   "cell_type": "code",
   "execution_count": 15,
   "metadata": {},
   "outputs": [
    {
     "name": "stdout",
     "output_type": "stream",
     "text": [
      "Request #1\n",
      "Skipping. Connnection error\n",
      "Request #2\n",
      "Skipping. Connnection error\n",
      "Request #3\n",
      "Skipping. Connnection error\n",
      "Request #4\n",
      "Skipping. Connnection error\n",
      "Request #5\n",
      "Skipping. Connnection error\n",
      "Request #6\n",
      "Skipping. Connnection error\n",
      "Request #7\n",
      "Skipping. Connnection error\n",
      "Request #8\n",
      "Skipping. Connnection error\n",
      "Request #9\n",
      "Skipping. Connnection error\n",
      "Request #10\n",
      "Skipping. Connnection error\n"
     ]
    }
   ],
   "source": [
    "import requests\n",
    "from itertools import cycle\n",
    "import traceback\n",
    "#If you are copy pasting proxy ips, put in the list below\n",
    "#proxies = ['121.129.127.209:80', '124.41.215.238:45169', '185.93.3.123:8080', '194.182.64.67:3128', '106.0.38.174:8080', '163.172.175.210:3128', '13.92.196.150:8080']\n",
    "proxies = get_proxies()\n",
    "proxy_pool = cycle(proxies)\n",
    "\n",
    "url = 'https://www.pinterest.com/'\n",
    "for i in range(1,11):\n",
    "    #Get a proxy from the pool\n",
    "    proxy = next(proxy_pool)\n",
    "    print(\"Request #%d\"%i)\n",
    "    try:\n",
    "        response = requests.get(url)\n",
    "        print(response.json())\n",
    "    except:\n",
    "        #Most free proxies will often get connection errors. You will have retry the entire request using another proxy to work. \n",
    "        #We will just skip retries as its beyond the scope of this tutorial and we are only downloading a single url \n",
    "        print(\"Skipping. Connnection error\")\n"
   ]
  },
  {
   "cell_type": "code",
   "execution_count": 19,
   "metadata": {},
   "outputs": [
    {
     "name": "stdout",
     "output_type": "stream",
     "text": [
      "{'90.182.8.234:3128'}\n"
     ]
    }
   ],
   "source": [
    "url = 'https://www.pinterest.com/'\n",
    "response = requests.get(url)\n",
    "print(proxies)\n"
   ]
  }
 ],
 "metadata": {
  "kernelspec": {
   "display_name": "Python 3",
   "language": "python",
   "name": "python3"
  },
  "language_info": {
   "codemirror_mode": {
    "name": "ipython",
    "version": 3
   },
   "file_extension": ".py",
   "mimetype": "text/x-python",
   "name": "python",
   "nbconvert_exporter": "python",
   "pygments_lexer": "ipython3",
   "version": "3.7.3"
  }
 },
 "nbformat": 4,
 "nbformat_minor": 2
}
